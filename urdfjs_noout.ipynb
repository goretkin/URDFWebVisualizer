{
 "cells": [
  {
   "cell_type": "code",
   "execution_count": null,
   "metadata": {},
   "outputs": [],
   "source": [
    "include(\"jl/URDFViewer.jl\")"
   ]
  },
  {
   "cell_type": "code",
   "execution_count": null,
   "metadata": {},
   "outputs": [],
   "source": [
    "joint_names = [\n",
    "\"base_footprint_joint\",\"base_bellow_joint\",\"base_laser_joint\",\"fl_caster_rotation_joint\",\"fl_caster_l_wheel_joint\",\"fl_caster_r_wheel_joint\",\"fr_caster_rotation_joint\",\"fr_caster_l_wheel_joint\",\"fr_caster_r_wheel_joint\",\"bl_caster_rotation_joint\",\"bl_caster_l_wheel_joint\",\"bl_caster_r_wheel_joint\",\"br_caster_rotation_joint\",\"br_caster_l_wheel_joint\",\"br_caster_r_wheel_joint\",\"torso_lift_joint\",\"l_torso_lift_side_plate_joint\",\"r_torso_lift_side_plate_joint\",\"torso_lift_motor_screw_joint\",\"imu_joint\",\"head_pan_joint\",\"head_tilt_joint\",\"head_plate_frame_joint\",\"sensor_mount_frame_joint\",\"high_def_frame_joint\",\"high_def_optical_frame_joint\",\"double_stereo_frame_joint\",\"wide_stereo_frame_joint\",\"wide_stereo_optical_frame_joint\",\"wide_stereo_gazebo_l_stereo_camera_frame_joint\",\"wide_stereo_gazebo_l_stereo_camera_optical_frame_joint\",\"wide_stereo_gazebo_r_stereo_camera_frame_joint\",\"wide_stereo_gazebo_r_stereo_camera_optical_frame_joint\",\"narrow_stereo_frame_joint\",\"narrow_stereo_optical_frame_joint\",\"narrow_stereo_gazebo_l_stereo_camera_frame_joint\",\"narrow_stereo_gazebo_l_stereo_camera_optical_frame_joint\",\"narrow_stereo_gazebo_r_stereo_camera_frame_joint\",\"narrow_stereo_gazebo_r_stereo_camera_optical_frame_joint\",\"projector_wg6802418_frame_joint\",\"projector_wg6802418_child_frame_joint\",\"head_mount_joint\",\"head_mount_kinect_ir_joint\",\"head_mount_kinect_ir_optical_frame_joint\",\"head_mount_kinect_rgb_joint\",\"head_mount_kinect_rgb_optical_frame_joint\",\"head_mount_prosilica_joint\",\"head_mount_prosilica_optical_frame_joint\",\"laser_tilt_mount_joint\",\"laser_tilt_joint\",\"r_shoulder_pan_joint\",\"r_shoulder_lift_joint\",\"r_upper_arm_roll_joint\",\"r_upper_arm_joint\",\"r_forearm_roll_joint\",\"r_elbow_flex_joint\",\"r_forearm_joint\",\"r_wrist_flex_joint\",\"r_wrist_roll_joint\",\"r_force_torque_adapter_joint\",\"r_force_torque_joint\",\"r_gripper_palm_joint\",\"r_gripper_led_joint\",\"r_gripper_motor_accelerometer_joint\",\"r_gripper_tool_joint\",\"r_gripper_motor_slider_joint\",\"r_gripper_motor_screw_joint\",\"r_gripper_l_finger_joint\",\"r_gripper_r_finger_joint\",\"r_gripper_l_finger_tip_joint\",\"r_gripper_r_finger_tip_joint\",\"l_shoulder_pan_joint\",\"l_shoulder_lift_joint\",\"l_upper_arm_roll_joint\",\"l_upper_arm_joint\",\"l_forearm_roll_joint\",\"l_elbow_flex_joint\",\"l_forearm_joint\",\"l_wrist_flex_joint\",\"l_wrist_roll_joint\",\"l_gripper_palm_joint\",\"l_gripper_led_joint\",\"l_gripper_motor_accelerometer_joint\",\"l_gripper_tool_joint\",\"l_gripper_motor_slider_joint\",\"l_gripper_motor_screw_joint\",\"l_gripper_l_finger_joint\",\"l_gripper_r_finger_joint\",\"l_gripper_l_finger_tip_joint\",\"l_gripper_r_finger_tip_joint\",\"l_forearm_cam_frame_joint\",\"l_forearm_cam_optical_frame_joint\",\"r_forearm_cam_frame_joint\",\"r_forearm_cam_optical_frame_joint\"\n",
    "];\n",
    "joint_data = rand(length(joint_names), 500) - 0.5;"
   ]
  },
  {
   "cell_type": "code",
   "execution_count": null,
   "metadata": {},
   "outputs": [],
   "source": [
    "id = Base.Random.uuid4()\n",
    "URDFViewer.display_player_html(id)\n",
    "URDFViewer.run_player_js(id, joint_names, joint_data, \"base_link\", 30.0,\n",
    "    Dict(\n",
    "        \"urdf_url\" => \"./pr2_description/robot_uncalibrated_fix_mass.xml\",\n",
    "        \"urdf_resources_url\" => \"http://0.0.0.0:8000/\",\n",
    "        \"width\"=>300, \"height\"=>300)\n",
    "    )"
   ]
  }
 ],
 "metadata": {
  "kernelspec": {
   "display_name": "Julia 0.6.0",
   "language": "julia",
   "name": "julia-0.6"
  },
  "language_info": {
   "file_extension": ".jl",
   "mimetype": "application/julia",
   "name": "julia",
   "version": "0.6.0"
  }
 },
 "nbformat": 4,
 "nbformat_minor": 2
}
